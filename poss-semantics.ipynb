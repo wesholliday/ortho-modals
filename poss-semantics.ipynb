{
 "cells": [
  {
   "cell_type": "markdown",
   "id": "6df68098",
   "metadata": {},
   "source": [
    "This notebook is a supplement to the paper [\"The Orthologic of Epistemic Modals\"](https://escholarship.org/uc/item/0ss5z8g3) by [Wesley H. Holliday](mailto:wesholliday@berkeley.edu) and [Matthew Mandelkern](mandelkern@nyu.edu). The notebook focuses on the *possibility semantics* for modal orthologic discussed in Section 4 of the paper.\n",
    "\n",
    "# Notebook Outline\n",
    "\n",
    "### 1. Compatibility frames\n",
    "\n",
    "#### 1.1 The compatibility frame for the Epistemic Scale\n",
    "#### 1.2 The compatibility frame for the Epistemic Grid\n",
    "\n",
    "### 2. The ortholattice of regular sets\n",
    "\n",
    "#### 1.1 The ortholattices from the Epistemic Scale\n",
    "#### 1.2 The ortholattices from the Epistemic Grid\n",
    "\n",
    "### 3. Hasse diagrams of the lattices\n",
    "\n",
    "#### 3.1 Displaying the ortholattices from the Epistemic Scale\n",
    "#### 3.2 Displaying the ortholattices from the Epistemic Grid\n",
    "\n",
    "### 4. Operations on regular sets\n",
    "\n",
    "### 5. Adding accessibility\n",
    "#### 5.1 Accessibility for the Epistemic Scale\n",
    "#### 5.2 Accessibility for the Epistemic Grid"
   ]
  },
  {
   "cell_type": "code",
   "execution_count": 1,
   "id": "08bb64c6",
   "metadata": {},
   "outputs": [],
   "source": [
    "import copy\n",
    "import networkx as nx\n",
    "import matplotlib.pyplot as plt"
   ]
  },
  {
   "cell_type": "markdown",
   "id": "68546d46",
   "metadata": {},
   "source": [
    "## 1. Compatibility frames"
   ]
  },
  {
   "cell_type": "code",
   "execution_count": 2,
   "id": "f7279763",
   "metadata": {},
   "outputs": [],
   "source": [
    "# when defining compatibility frames, \n",
    "# in order to avoid entering pairs (x,x) manually, we use the following:\n",
    "\n",
    "def reflexive_closure(rel,X):\n",
    "    \"\"\"given a binary relation rel on X, returns the reflexive closure of rel\"\"\"\n",
    "    relset = set(rel)\n",
    "\n",
    "    for x in X:\n",
    "        if not (x,x) in relset:\n",
    "            rel.append((x,x))\n",
    "    return rel"
   ]
  },
  {
   "cell_type": "code",
   "execution_count": 3,
   "id": "8e088fe5",
   "metadata": {},
   "outputs": [],
   "source": [
    "def domain(rel):\n",
    "    \"\"\"given a relation assumed to be reflexive, returns the domain of the relation\"\"\"\n",
    "    X = {pair[0] for pair in rel}\n",
    "    \n",
    "    return X"
   ]
  },
  {
   "cell_type": "code",
   "execution_count": 4,
   "id": "accbb751",
   "metadata": {},
   "outputs": [],
   "source": [
    "def draw_digraph(rel,X = None):\n",
    "    \"\"\"given a relation rel on X, draw the digraph (with no loops) for rel;\n",
    "    if no X is given, we assume rel is reflexive and take X to be the domain of rel\"\"\"\n",
    "    \n",
    "    if X is None:\n",
    "        X = domain(rel)\n",
    "    \n",
    "    g = nx.DiGraph()\n",
    "    g.add_nodes_from(X)\n",
    "    \n",
    "    for pair in rel:\n",
    "        if not pair[0] == pair[1]:\n",
    "            g.add_edge(pair[0],pair[1])\n",
    "    \n",
    "    nx.draw(g)\n",
    "    plt.show() "
   ]
  },
  {
   "cell_type": "markdown",
   "id": "24be3a34",
   "metadata": {},
   "source": [
    "### 1.1 The compatibilty frame for the Epistemic Scale"
   ]
  },
  {
   "cell_type": "code",
   "execution_count": 5,
   "id": "d3fa6aea",
   "metadata": {},
   "outputs": [
    {
     "data": {
      "image/png": "[encoded data removed]",
      "text/plain": [
       "<Figure size 432x288 with 1 Axes>"
      ]
     },
     "metadata": {},
     "output_type": "display_data"
    }
   ],
   "source": [
    "scale_rel = reflexive_closure([(0,1),(1,0),(1,2),(2,1),(2,3),(3,2),(3,4),(4,3)],range(5))\n",
    "draw_digraph(scale_rel)"
   ]
  },
  {
   "cell_type": "markdown",
   "id": "6ffd9929",
   "metadata": {},
   "source": [
    "### 1.2 The compatibilty frame for the Epistemic Grid\n",
    "\n",
    "As described in Example 4.33, the Epistemic Grid comes from the Epistemic Scale by a product construction."
   ]
  },
  {
   "cell_type": "code",
   "execution_count": 6,
   "id": "0dc6becf",
   "metadata": {},
   "outputs": [],
   "source": [
    "prod = []\n",
    "for x in range(5):\n",
    "    for y in range (5):\n",
    "        prod.append((x,y))"
   ]
  },
  {
   "cell_type": "code",
   "execution_count": 7,
   "id": "f18e7a76",
   "metadata": {},
   "outputs": [],
   "source": [
    "grid_rel = []\n",
    "for pair in prod:\n",
    "    for pair2 in prod:\n",
    "        if abs(pair[0]-pair2[0])<=1 and abs(pair[1]-pair2[1])<=1: \n",
    "            grid_rel.append((pair,pair2))"
   ]
  },
  {
   "cell_type": "code",
   "execution_count": 8,
   "id": "cf656a7b",
   "metadata": {},
   "outputs": [
    {
     "name": "stdout",
     "output_type": "stream",
     "text": [
      "[((0, 0), (0, 0)), ((0, 0), (0, 1)), ((0, 0), (1, 0)), ((0, 0), (1, 1)), ((0, 1), (0, 0)), ((0, 1), (0, 1)), ((0, 1), (0, 2)), ((0, 1), (1, 0)), ((0, 1), (1, 1)), ((0, 1), (1, 2)), ((0, 2), (0, 1)), ((0, 2), (0, 2)), ((0, 2), (0, 3)), ((0, 2), (1, 1)), ((0, 2), (1, 2)), ((0, 2), (1, 3)), ((0, 3), (0, 2)), ((0, 3), (0, 3)), ((0, 3), (0, 4)), ((0, 3), (1, 2)), ((0, 3), (1, 3)), ((0, 3), (1, 4)), ((0, 4), (0, 3)), ((0, 4), (0, 4)), ((0, 4), (1, 3)), ((0, 4), (1, 4)), ((1, 0), (0, 0)), ((1, 0), (0, 1)), ((1, 0), (1, 0)), ((1, 0), (1, 1)), ((1, 0), (2, 0)), ((1, 0), (2, 1)), ((1, 1), (0, 0)), ((1, 1), (0, 1)), ((1, 1), (0, 2)), ((1, 1), (1, 0)), ((1, 1), (1, 1)), ((1, 1), (1, 2)), ((1, 1), (2, 0)), ((1, 1), (2, 1)), ((1, 1), (2, 2)), ((1, 2), (0, 1)), ((1, 2), (0, 2)), ((1, 2), (0, 3)), ((1, 2), (1, 1)), ((1, 2), (1, 2)), ((1, 2), (1, 3)), ((1, 2), (2, 1)), ((1, 2), (2, 2)), ((1, 2), (2, 3)), ((1, 3), (0, 2)), ((1, 3), (0, 3)), ((1, 3), (0, 4)), ((1, 3), (1, 2)), ((1, 3), (1, 3)), ((1, 3), (1, 4)), ((1, 3), (2, 2)), ((1, 3), (2, 3)), ((1, 3), (2, 4)), ((1, 4), (0, 3)), ((1, 4), (0, 4)), ((1, 4), (1, 3)), ((1, 4), (1, 4)), ((1, 4), (2, 3)), ((1, 4), (2, 4)), ((2, 0), (1, 0)), ((2, 0), (1, 1)), ((2, 0), (2, 0)), ((2, 0), (2, 1)), ((2, 0), (3, 0)), ((2, 0), (3, 1)), ((2, 1), (1, 0)), ((2, 1), (1, 1)), ((2, 1), (1, 2)), ((2, 1), (2, 0)), ((2, 1), (2, 1)), ((2, 1), (2, 2)), ((2, 1), (3, 0)), ((2, 1), (3, 1)), ((2, 1), (3, 2)), ((2, 2), (1, 1)), ((2, 2), (1, 2)), ((2, 2), (1, 3)), ((2, 2), (2, 1)), ((2, 2), (2, 2)), ((2, 2), (2, 3)), ((2, 2), (3, 1)), ((2, 2), (3, 2)), ((2, 2), (3, 3)), ((2, 3), (1, 2)), ((2, 3), (1, 3)), ((2, 3), (1, 4)), ((2, 3), (2, 2)), ((2, 3), (2, 3)), ((2, 3), (2, 4)), ((2, 3), (3, 2)), ((2, 3), (3, 3)), ((2, 3), (3, 4)), ((2, 4), (1, 3)), ((2, 4), (1, 4)), ((2, 4), (2, 3)), ((2, 4), (2, 4)), ((2, 4), (3, 3)), ((2, 4), (3, 4)), ((3, 0), (2, 0)), ((3, 0), (2, 1)), ((3, 0), (3, 0)), ((3, 0), (3, 1)), ((3, 0), (4, 0)), ((3, 0), (4, 1)), ((3, 1), (2, 0)), ((3, 1), (2, 1)), ((3, 1), (2, 2)), ((3, 1), (3, 0)), ((3, 1), (3, 1)), ((3, 1), (3, 2)), ((3, 1), (4, 0)), ((3, 1), (4, 1)), ((3, 1), (4, 2)), ((3, 2), (2, 1)), ((3, 2), (2, 2)), ((3, 2), (2, 3)), ((3, 2), (3, 1)), ((3, 2), (3, 2)), ((3, 2), (3, 3)), ((3, 2), (4, 1)), ((3, 2), (4, 2)), ((3, 2), (4, 3)), ((3, 3), (2, 2)), ((3, 3), (2, 3)), ((3, 3), (2, 4)), ((3, 3), (3, 2)), ((3, 3), (3, 3)), ((3, 3), (3, 4)), ((3, 3), (4, 2)), ((3, 3), (4, 3)), ((3, 3), (4, 4)), ((3, 4), (2, 3)), ((3, 4), (2, 4)), ((3, 4), (3, 3)), ((3, 4), (3, 4)), ((3, 4), (4, 3)), ((3, 4), (4, 4)), ((4, 0), (3, 0)), ((4, 0), (3, 1)), ((4, 0), (4, 0)), ((4, 0), (4, 1)), ((4, 1), (3, 0)), ((4, 1), (3, 1)), ((4, 1), (3, 2)), ((4, 1), (4, 0)), ((4, 1), (4, 1)), ((4, 1), (4, 2)), ((4, 2), (3, 1)), ((4, 2), (3, 2)), ((4, 2), (3, 3)), ((4, 2), (4, 1)), ((4, 2), (4, 2)), ((4, 2), (4, 3)), ((4, 3), (3, 2)), ((4, 3), (3, 3)), ((4, 3), (3, 4)), ((4, 3), (4, 2)), ((4, 3), (4, 3)), ((4, 3), (4, 4)), ((4, 4), (3, 3)), ((4, 4), (3, 4)), ((4, 4), (4, 3)), ((4, 4), (4, 4))]\n"
     ]
    }
   ],
   "source": [
    "print(grid_rel)"
   ]
  },
  {
   "cell_type": "code",
   "execution_count": 9,
   "id": "d26831cb",
   "metadata": {},
   "outputs": [
    {
     "data": {
      "image/png": "[encoded data removed]",
      "text/plain": [
       "<Figure size 432x288 with 1 Axes>"
      ]
     },
     "metadata": {},
     "output_type": "display_data"
    }
   ],
   "source": [
    "draw_digraph(grid_rel)"
   ]
  },
  {
   "cell_type": "markdown",
   "id": "46e483df",
   "metadata": {},
   "source": [
    "## 2. The ortholattice of regular sets\n",
    "\n",
    "Given a compatibility frame $(S,\\between)$, consider the closure operator $c_\\between: \\wp(S)\\to \\wp(S)$ defined by $c_\\between(A)=\\{x\\in S\\mid \\forall y\\between x\\,\\exists z\\between y: z\\in A\\}$.\n",
    "\n",
    "What we call \"$\\between$-regular sets\" in the paper are fixpoints of $c_\\between$, i.e., sets $A\\subseteq S$ such that $c_\\between(A)=A$."
   ]
  },
  {
   "cell_type": "code",
   "execution_count": 10,
   "id": "ecf4fd45",
   "metadata": {},
   "outputs": [],
   "source": [
    "def closure(A,rel,X = None):\n",
    "    \"\"\"given a subset A of X, returns the closure of A according to the closure operator\n",
    "    defined from the compatibility relation rel as above;\n",
    "    if no X is given, we assume rel is reflexive and take X to be the domain of rel\"\"\"\n",
    "\n",
    "    if X is None:\n",
    "        X = domain(rel)\n",
    "    \n",
    "    Aset = set(A)\n",
    "    Xset = set(X)\n",
    "    closure = [x for x in A]\n",
    "   \n",
    "    for x in Xset - Aset:\n",
    "        x_sees = {y for y in X if (y,x) in rel}\n",
    "        sees_into_A = {y for y in X if any([pair[0] in Aset and pair[1]==y for pair in rel])}\n",
    "        if x_sees.issubset(sees_into_A):\n",
    "            closure.append(x)\n",
    "        \n",
    "    return closure"
   ]
  },
  {
   "cell_type": "markdown",
   "id": "36055a04",
   "metadata": {},
   "source": [
    "For small compatibility frames, we can simply check for each subset whether it is a fixpoint of the closure operator."
   ]
  },
  {
   "cell_type": "code",
   "execution_count": 11,
   "id": "ac628d21",
   "metadata": {},
   "outputs": [],
   "source": [
    "def fixpoints_slow(rel,X = None):\n",
    "    \"\"\"given a binary relation rel on X, returns the fixpoints of the closure operator defined above\"\"\"\n",
    "\n",
    "    if X is None:\n",
    "        X = domain(rel)\n",
    "    \n",
    "    fixpts = [(), tuple(X)]\n",
    "    \n",
    "    pwrset = powerset(X)\n",
    "\n",
    "    for A in pwrset:\n",
    "        if A == () or A == tuple(X):\n",
    "            continue\n",
    "            \n",
    "        if A == tuple(closure(A,rel,X)):\n",
    "            fixpts.append(A)\n",
    "\n",
    "    return fixpts"
   ]
  },
  {
   "cell_type": "markdown",
   "id": "edecb452",
   "metadata": {},
   "source": [
    "To handle larger compatibility frames, we can use Ganter's algorithm to calculate fixpoints of a closure operator (Ganter B. (2010), \"Two Basic Algorithms in Concept Analysis.\" In: Kwuida L., Sertkaya B. (eds) Formal Concept Analysis. ICFCA 2010. *Lecture Notes in Computer Science*, vol 5986. Springer, Berlin, Heidelberg. https://doi.org/10.1007/978-3-642-11928-6_22). \n",
    "\n",
    "Ganter's algorithm assumes a closure operator on the powerset of a set $X$ where $X$ is an initial segment of the natural numbers (or otherwise linearly ordered). Thus, we include a function to convert a given compatibility frame to an isomorphic copy whose domain is an initial segment of the natural numbers."
   ]
  },
  {
   "cell_type": "code",
   "execution_count": 12,
   "id": "c0f2927b",
   "metadata": {},
   "outputs": [],
   "source": [
    "def convert_to_nums(rel, X = None):\n",
    "    \"\"\"Given a compatibility frame, return an isomorphic copy\n",
    "    whose domain is an initial segment of the natural numbers plus\n",
    "    a dictionary to go back from natural numbers to the original elements\"\"\"\n",
    "    \n",
    "    if X is None:\n",
    "        X = domain(rel)\n",
    "    \n",
    "    forward_map = {}\n",
    "    inverse_map = {}\n",
    "    count = 0\n",
    "    \n",
    "    for x in X:\n",
    "        forward_map[x] = count\n",
    "        inverse_map[count] = x\n",
    "        count += 1  \n",
    "    \n",
    "    newrel = []\n",
    "    \n",
    "    for pair in rel:\n",
    "        newrel.append((forward_map[pair[0]],forward_map[pair[1]]))\n",
    "    \n",
    "    return newrel, inverse_map"
   ]
  },
  {
   "cell_type": "markdown",
   "id": "8ca1c902",
   "metadata": {},
   "source": [
    "We implement the algorithm on p. 316 of Ganter's paper with the following two functions."
   ]
  },
  {
   "cell_type": "code",
   "execution_count": 13,
   "id": "ead2008a",
   "metadata": {},
   "outputs": [],
   "source": [
    "def next_fixpoint(A, rel, X = None):\n",
    "    \"\"\"Given a compatibility relation rel on an initial segment of the natural numbers\n",
    "    and a subset A, assumed to be a fixpoint, calculate the next fixpoint\n",
    "    according to Ganter's lectic ordering\"\"\"\n",
    "    \n",
    "    if X is None:\n",
    "        X = domain(rel)\n",
    "        \n",
    "    Aset = set(A)\n",
    "    \n",
    "    for i in reversed(X):\n",
    "        if not i in Aset:\n",
    "            iset = set(range(i))\n",
    "            inter = Aset.intersection(iset)\n",
    "            union = inter.union({i})\n",
    "            Anext = closure(union, rel, X)\n",
    "            if [j for j in Anext if j<i and not j in Aset] == []:\n",
    "                return tuple(Anext) "
   ]
  },
  {
   "cell_type": "code",
   "execution_count": 14,
   "id": "b047f1a2",
   "metadata": {},
   "outputs": [],
   "source": [
    "def fixpoints(rel, X = None):\n",
    "    \"\"\"Given a compatibility relation rel, return the fixpoints according to Ganter's algorithm;\n",
    "    if rel is not already on an initial segment of the natural numbers, \n",
    "    apply convert_to_nums in order to run next_fixpoint and then apply \n",
    "    the inverse map to get corresponding fixpoints for the original rel\"\"\"\n",
    "    \n",
    "    if X is None:\n",
    "        X = domain(rel)\n",
    "        \n",
    "    if tuple(X) == tuple(range(len(X))):\n",
    "        \n",
    "        listX = list(X)\n",
    "        tupX = tuple(X)\n",
    "    \n",
    "        fixpts = [set()]\n",
    "        A = ()\n",
    "    \n",
    "        while not A == tupX:\n",
    "            A_next = next_fixpoint(A,rel,listX)\n",
    "            A = A_next\n",
    "            fixpts.append(set(A_next))\n",
    "        \n",
    "        return fixpts\n",
    "    \n",
    "    else:\n",
    "        conv = convert_to_nums(rel, X)\n",
    "        newrel = conv[0]\n",
    "        inverse = conv[1]\n",
    "        newX = domain(newrel)\n",
    "        \n",
    "        listX = list(newX)\n",
    "        tupX = tuple(newX)\n",
    "        \n",
    "        fixpts = [set()]\n",
    "        A = ()\n",
    "    \n",
    "        while not A == tupX:\n",
    "            A_next = next_fixpoint(A,newrel,listX)\n",
    "            A = A_next\n",
    "            A_next_inverse = tuple({inverse[a] for a in A_next})\n",
    "            fixpts.append(set(A_next_inverse))\n",
    "        \n",
    "        return fixpts"
   ]
  },
  {
   "cell_type": "markdown",
   "id": "ceccaf64",
   "metadata": {},
   "source": [
    "### 2.1 The ortholattice for the Epistemic Scale"
   ]
  },
  {
   "cell_type": "code",
   "execution_count": 15,
   "id": "88735f33",
   "metadata": {},
   "outputs": [
    {
     "data": {
      "image/png": "[encoded data removed]",
      "text/plain": [
       "<Figure size 432x288 with 1 Axes>"
      ]
     },
     "metadata": {},
     "output_type": "display_data"
    }
   ],
   "source": [
    "#Recall the compatibility frame for the Epistemic Scale\n",
    "draw_digraph(scale_rel)"
   ]
  },
  {
   "cell_type": "code",
   "execution_count": 16,
   "id": "d5de1afa",
   "metadata": {},
   "outputs": [
    {
     "name": "stdout",
     "output_type": "stream",
     "text": [
      "10\n",
      "[set(), {4}, {3, 4}, {2}, {2, 3, 4}, {0}, {0, 4}, {0, 1}, {0, 1, 2}, {0, 1, 2, 3, 4}]\n"
     ]
    }
   ],
   "source": [
    "scale_lat = fixpoints(scale_rel)\n",
    "print(len(scale_lat))\n",
    "print(scale_lat)"
   ]
  },
  {
   "cell_type": "markdown",
   "id": "45cb5d13",
   "metadata": {},
   "source": [
    "### 2.2 The ortholattice for the Epistemic Grid"
   ]
  },
  {
   "cell_type": "code",
   "execution_count": 17,
   "id": "5c2b6147",
   "metadata": {},
   "outputs": [
    {
     "data": {
      "image/png": "[encoded data removed]",
      "text/plain": [
       "<Figure size 432x288 with 1 Axes>"
      ]
     },
     "metadata": {},
     "output_type": "display_data"
    }
   ],
   "source": [
    "#Recall the compatibility frame for the Epistemic Grid\n",
    "draw_digraph(grid_rel)"
   ]
  },
  {
   "cell_type": "code",
   "execution_count": 18,
   "id": "697ca661",
   "metadata": {},
   "outputs": [],
   "source": [
    "grid_lat = fixpoints(grid_rel)"
   ]
  },
  {
   "cell_type": "code",
   "execution_count": 19,
   "id": "fc731506",
   "metadata": {},
   "outputs": [
    {
     "data": {
      "text/plain": [
       "1942"
      ]
     },
     "execution_count": 19,
     "metadata": {},
     "output_type": "execute_result"
    }
   ],
   "source": [
    "len(grid_lat)"
   ]
  },
  {
   "cell_type": "markdown",
   "id": "9ea634d3",
   "metadata": {},
   "source": [
    "## 3. Hasse diagrams of the lattices\n",
    "\n",
    "Given a family of regular sets, we first calculate the proper subset relation between them, then calculate the associated covering relation, and finally create a networkx digraph for the Hasse diagram of the lattice of regular sets."
   ]
  },
  {
   "cell_type": "code",
   "execution_count": 20,
   "id": "aa37db00",
   "metadata": {},
   "outputs": [],
   "source": [
    "def propsubrel(lt):\n",
    "    \"\"\"given a list of tuples representing a set of sets, returns the proper subset relation as a list of pairs\"\"\"\n",
    "    propsubrel = []\n",
    "    \n",
    "    for A in lt:\n",
    "        for B in lt:  \n",
    "            if set(A).issubset(set(B)) and not set(B).issubset(set(A)):\n",
    "                propsubrel.append((A,B))\n",
    "                \n",
    "    return propsubrel"
   ]
  },
  {
   "cell_type": "code",
   "execution_count": 21,
   "id": "bbd39308",
   "metadata": {},
   "outputs": [],
   "source": [
    "def covering(spo):\n",
    "    \"\"\"given a strict partial order spo, returns the associated covering relation\"\"\"\n",
    "    cover = copy.deepcopy(spo)\n",
    "    for p1 in spo:\n",
    "        for p2 in spo:\n",
    "            if p1 in cover and p1[0] == p2[0] and (p2[1],p1[1]) in spo:\n",
    "                cover.remove(p1)\n",
    "                break\n",
    "    return cover"
   ]
  },
  {
   "cell_type": "code",
   "execution_count": 22,
   "id": "489ab2ce",
   "metadata": {},
   "outputs": [],
   "source": [
    "def lattice(regsets):\n",
    "    \"\"\"given a family of regular sets, returns the Hasse diagram of the lattice of regular sets\"\"\"\n",
    "        \n",
    "    regtuples = [tuple(A) for A in regsets]\n",
    "    cover = covering(propsubrel(regtuples))\n",
    "    l = nx.DiGraph()\n",
    "    l.add_nodes_from(regtuples)\n",
    "    l.add_edges_from(cover) \n",
    "    \n",
    "    return l"
   ]
  },
  {
   "cell_type": "markdown",
   "id": "5f7d6008",
   "metadata": {},
   "source": [
    "### 3.1 Displaying the ortholattices from the Epistemic Scale"
   ]
  },
  {
   "cell_type": "code",
   "execution_count": 23,
   "id": "19188623",
   "metadata": {},
   "outputs": [
    {
     "data": {
      "image/png": "[encoded data removed]",
      "text/plain": [
       "<Figure size 432x288 with 1 Axes>"
      ]
     },
     "metadata": {},
     "output_type": "display_data"
    }
   ],
   "source": [
    "l = lattice(scale_lat)\n",
    "\n",
    "nx.draw(l)\n",
    "plt.show() "
   ]
  },
  {
   "cell_type": "markdown",
   "id": "32d51f24",
   "metadata": {},
   "source": [
    "### 3.1 Displaying the ortholattice from the Epistemic Grid\n",
    "\n",
    "Unfortunately the 1,942-element ortholattice from the Epistemic Grid is too large for networkx to display."
   ]
  },
  {
   "cell_type": "code",
   "execution_count": 24,
   "id": "ce2c890c",
   "metadata": {},
   "outputs": [],
   "source": [
    "#l = lattice(grid_lat)\n",
    "\n",
    "#nx.draw(l)\n",
    "#plt.show() "
   ]
  },
  {
   "cell_type": "markdown",
   "id": "8b7af986",
   "metadata": {},
   "source": [
    "## 4. Operations on regular sets"
   ]
  },
  {
   "cell_type": "code",
   "execution_count": 25,
   "id": "45c8a6e1",
   "metadata": {},
   "outputs": [],
   "source": [
    "def neg(A,rel,X = None):\n",
    "    \"\"\"given a subset A of a compatibility frame with compatibility relation rel\n",
    "    return the orthocomplement of A\"\"\"\n",
    "    \n",
    "    setA = set(A)\n",
    "    \n",
    "    if X is None:\n",
    "        X = domain(rel)\n",
    "        \n",
    "    setX = set(X)\n",
    "        \n",
    "    negA = [x for x in setX if set([y for y in X if (y,x) in rel and y in setA]) == set()]\n",
    "    \n",
    "    return set(negA)"
   ]
  },
  {
   "cell_type": "code",
   "execution_count": 26,
   "id": "9eb980b5",
   "metadata": {},
   "outputs": [],
   "source": [
    "def wedge(A,B):\n",
    "    \"\"\"Given two subsets of a compatibility frame, return their conjunction (intersection)\"\"\"\n",
    "    return A.intersection(B)"
   ]
  },
  {
   "cell_type": "code",
   "execution_count": 27,
   "id": "02b67c5b",
   "metadata": {},
   "outputs": [],
   "source": [
    "def vee(A,B,rel,X = None):\n",
    "    \"\"\"Given two subsets of a compatibility frame, return their disjunction (closure of union)\"\"\"\n",
    "    return set(closure(A.union(B),rel))"
   ]
  },
  {
   "cell_type": "markdown",
   "id": "3b056d39",
   "metadata": {},
   "source": [
    "For example, let's verify De Morgan's law in the ortholattice from the Epistemic Scale."
   ]
  },
  {
   "cell_type": "code",
   "execution_count": 28,
   "id": "f5d98e42",
   "metadata": {},
   "outputs": [],
   "source": [
    "for A in scale_lat:\n",
    "    for B in scale_lat:\n",
    "        if not vee(A,B,scale_rel) == neg(wedge(neg(A,scale_rel),neg(B,scale_rel)), scale_rel):\n",
    "            print(\"Violation of De Morgan's law!\")"
   ]
  },
  {
   "cell_type": "markdown",
   "id": "cc94d1ca",
   "metadata": {},
   "source": [
    "Below we give the valuation of $p$ and $q$ in the Epistemic Grid used in the paper."
   ]
  },
  {
   "cell_type": "code",
   "execution_count": 29,
   "id": "b5b262a8",
   "metadata": {},
   "outputs": [],
   "source": [
    "P = {(0,0),(1,0),(2,0),(3,0),(4,0),(0,1),(1,1),(2,1),(3,1),(4,1)}\n",
    "Q = {(0,0),(0,1),(0,2),(0,3),(0,4),(1,0),(1,1),(1,2),(1,3),(1,4)}"
   ]
  },
  {
   "cell_type": "code",
   "execution_count": 32,
   "id": "ade53175",
   "metadata": {},
   "outputs": [
    {
     "name": "stdout",
     "output_type": "stream",
     "text": [
      "{(0, 1), (1, 0), (1, 1), (0, 0)}\n"
     ]
    }
   ],
   "source": [
    "print(P.intersection(Q))"
   ]
  },
  {
   "cell_type": "code",
   "execution_count": 33,
   "id": "b0dee0ff",
   "metadata": {},
   "outputs": [
    {
     "name": "stdout",
     "output_type": "stream",
     "text": [
      "{(4, 4), (2, 4), (0, 4), (3, 4), (4, 3), (0, 3), (1, 4), (2, 3), (3, 3), (1, 3)}\n"
     ]
    }
   ],
   "source": [
    "print(neg(P,grid_rel))"
   ]
  },
  {
   "cell_type": "code",
   "execution_count": 34,
   "id": "c8027732",
   "metadata": {},
   "outputs": [
    {
     "name": "stdout",
     "output_type": "stream",
     "text": [
      "{(4, 4), (4, 0), (3, 4), (4, 3), (3, 1), (4, 2), (3, 0), (3, 3), (3, 2), (4, 1)}\n"
     ]
    }
   ],
   "source": [
    "print(neg(Q,grid_rel))"
   ]
  },
  {
   "cell_type": "code",
   "execution_count": 35,
   "id": "27d49da6",
   "metadata": {},
   "outputs": [
    {
     "name": "stdout",
     "output_type": "stream",
     "text": [
      "{(4, 4), (2, 4), (4, 0), (0, 4), (3, 4), (4, 3), (3, 1), (4, 1), (0, 3), (4, 2), (3, 0), (1, 4), (2, 3), (3, 3), (3, 2), (1, 3)}\n"
     ]
    }
   ],
   "source": [
    "print(neg(P.intersection(Q),grid_rel))"
   ]
  },
  {
   "cell_type": "markdown",
   "id": "6554f688",
   "metadata": {},
   "source": [
    "## 5. Adding accessibility\n",
    "\n",
    "For modalities, in this notebook we use the accessibility relation representation instead of the accessibility function representation in order to use fewer possibilities in our frames."
   ]
  },
  {
   "cell_type": "code",
   "execution_count": 36,
   "id": "6a3afdb8",
   "metadata": {},
   "outputs": [],
   "source": [
    "def box(A, access, X = None):\n",
    "    \"\"\"given a subset A of a compatibility frame with accessibility relation access\n",
    "    return Box A\"\"\"\n",
    "    \n",
    "    setA = set(A)\n",
    "    \n",
    "    if X is None:\n",
    "        X = domain(access)\n",
    "        \n",
    "    BoxA = [x for x in setA if set([y for y in X if (x,y) in access]).issubset(setA)]\n",
    "    \n",
    "    return set(BoxA)"
   ]
  },
  {
   "cell_type": "code",
   "execution_count": 37,
   "id": "6e1f7201",
   "metadata": {},
   "outputs": [],
   "source": [
    "def diamond(A, rel, access, X = None):\n",
    "    \"\"\"given a subset A of a compatibility frame with accessibility relation access\n",
    "    return Diamond A\"\"\"\n",
    "    \n",
    "    if X is None:\n",
    "        X = domain(access)\n",
    "    \n",
    "    return neg(box(neg(A,rel),access),rel)"
   ]
  },
  {
   "cell_type": "markdown",
   "id": "d85218fe",
   "metadata": {},
   "source": [
    "### 5.1 Accessibility for the Epistemic Scale"
   ]
  },
  {
   "cell_type": "code",
   "execution_count": 38,
   "id": "deed38a9",
   "metadata": {},
   "outputs": [],
   "source": [
    "access_on_scale = reflexive_closure([(1,0),(1,2),(3,2),(3,4)],range(5))"
   ]
  },
  {
   "cell_type": "markdown",
   "id": "ddfb2a8c",
   "metadata": {},
   "source": [
    "The following test ensures that for every regular subset $A$ of the Epistemic Grid, $\\Box A$ is also regular."
   ]
  },
  {
   "cell_type": "code",
   "execution_count": 39,
   "id": "87f6327f",
   "metadata": {},
   "outputs": [
    {
     "name": "stdout",
     "output_type": "stream",
     "text": [
      "A is set()\n",
      "Box A is set()\n",
      "\n",
      "\n",
      "A is {4}\n",
      "Box A is {4}\n",
      "\n",
      "\n",
      "A is {3, 4}\n",
      "Box A is {4}\n",
      "\n",
      "\n",
      "A is {2}\n",
      "Box A is {2}\n",
      "\n",
      "\n",
      "A is {2, 3, 4}\n",
      "Box A is {2, 3, 4}\n",
      "\n",
      "\n",
      "A is {0}\n",
      "Box A is {0}\n",
      "\n",
      "\n",
      "A is {0, 4}\n",
      "Box A is {0, 4}\n",
      "\n",
      "\n",
      "A is {0, 1}\n",
      "Box A is {0}\n",
      "\n",
      "\n",
      "A is {0, 1, 2}\n",
      "Box A is {0, 1, 2}\n",
      "\n",
      "\n",
      "A is {0, 1, 2, 3, 4}\n",
      "Box A is {0, 1, 2, 3, 4}\n",
      "\n",
      "\n"
     ]
    }
   ],
   "source": [
    "for A in scale_lat:\n",
    "    boxA = box(A,access_on_scale)\n",
    "    print(f\"A is {A}\")\n",
    "    print(f\"Box A is {boxA}\")\n",
    "    print(\"\\n\")"
   ]
  },
  {
   "cell_type": "markdown",
   "id": "83b2a433",
   "metadata": {},
   "source": [
    "### 5.2 Accessibility for the Epistemic Grid"
   ]
  },
  {
   "cell_type": "code",
   "execution_count": 40,
   "id": "dabf4494",
   "metadata": {},
   "outputs": [],
   "source": [
    "access_on_grid = reflexive_closure([((1,0),(0,0)), ((1,0),(2,0)), ((3,0),(2,0)), ((3,0),(4,0)),\n",
    "                                    ((1,1),(0,1)), ((1,1),(2,1)), ((3,1),(2,1)), ((3,1),(4,1)),\n",
    "                                    ((1,2),(0,2)), ((1,2),(2,2)), ((3,2),(2,2)), ((3,2),(4,2)),\n",
    "                                    ((1,3),(0,3)), ((1,3),(2,3)), ((3,3),(2,3)), ((3,3),(4,3)),\n",
    "                                    ((1,4),(0,4)), ((1,4),(2,4)), ((3,4),(2,4)), ((3,4),(4,4)),\n",
    "                                    \n",
    "                                    ((0,1),(0,0)), ((0,1),(0,2)), ((0,3),(0,2)), ((0,3),(0,4)),\n",
    "                                    ((1,1),(1,0)), ((1,1),(1,2)), ((1,3),(1,2)), ((1,3),(1,4)),\n",
    "                                    ((2,1),(2,0)), ((2,1),(2,2)), ((2,3),(2,2)), ((2,3),(2,4)),\n",
    "                                    ((3,1),(3,0)), ((3,1),(3,2)), ((3,3),(3,2)), ((3,3),(3,4)),\n",
    "                                    ((4,1),(4,0)), ((4,1),(4,2)), ((4,3),(4,2)), ((4,3),(4,4)),\n",
    "                                    \n",
    "                                    ((1,1),(0,0)), ((1,1),(2,0)), ((1,1),(2,2)), ((1,1),(0,2)),\n",
    "                                    ((3,1),(2,0)), ((3,1),(2,2)), ((3,1),(4,2)), ((3,1),(4,0)),\n",
    "                                    ((1,3),(0,2)), ((1,3),(0,4)), ((1,3),(2,4)), ((1,3),(2,2)),\n",
    "                                    ((3,3),(2,2)), ((3,3),(4,2)), ((3,3),(4,4)), ((3,3),(2,4))], \n",
    "                                   \n",
    "                                   prod)"
   ]
  },
  {
   "cell_type": "markdown",
   "id": "ff6a8b73",
   "metadata": {},
   "source": [
    "The following test ensures that for every regular subset $A$ of the Epistemic Grid, $\\Box A$ is also regular."
   ]
  },
  {
   "cell_type": "code",
   "execution_count": 41,
   "id": "432e04ac",
   "metadata": {},
   "outputs": [],
   "source": [
    "for A in grid_lat:\n",
    "    boxA = box(A,access_on_grid)\n",
    "    if boxA not in grid_lat:\n",
    "        print(\"Box of this regular set is not regular!\")\n",
    "        print(fx)\n",
    "        print(boxfx)\n",
    "        print(\"\\n\")"
   ]
  },
  {
   "cell_type": "markdown",
   "id": "99ddfc17",
   "metadata": {},
   "source": [
    "We now calculate the truth values of some formulas using the valuation for $p$ and $q$ on the Epistemic Grid."
   ]
  },
  {
   "cell_type": "code",
   "execution_count": 42,
   "id": "cb2ec765",
   "metadata": {},
   "outputs": [],
   "source": [
    "#Recall the valuation of p and q on the Epistemic Grid\n",
    "\n",
    "P = {(0,0),(1,0),(2,0),(3,0),(4,0),(0,1),(1,1),(2,1),(3,1),(4,1)}\n",
    "Q = {(0,0),(0,1),(0,2),(0,3),(0,4),(1,0),(1,1),(1,2),(1,3),(1,4)}"
   ]
  },
  {
   "cell_type": "code",
   "execution_count": 43,
   "id": "e816e4a5",
   "metadata": {},
   "outputs": [
    {
     "name": "stdout",
     "output_type": "stream",
     "text": [
      "{(0, 1), (1, 2), (4, 0), (2, 1), (0, 0), (3, 1), (1, 1), (2, 0), (4, 2), (3, 0), (0, 2), (2, 2), (1, 0), (3, 2), (4, 1)}\n"
     ]
    }
   ],
   "source": [
    "diamond_P = diamond(P,grid_rel,access_on_grid)\n",
    "print(diamond_P)"
   ]
  },
  {
   "cell_type": "code",
   "execution_count": 44,
   "id": "071dd624",
   "metadata": {},
   "outputs": [
    {
     "name": "stdout",
     "output_type": "stream",
     "text": [
      "{(0, 1), (2, 4), (1, 2), (0, 4), (2, 1), (0, 0), (1, 1), (0, 3), (2, 0), (1, 4), (2, 3), (0, 2), (2, 2), (1, 0), (1, 3)}\n"
     ]
    }
   ],
   "source": [
    "diamond_Q = diamond(Q,grid_rel,access_on_grid)\n",
    "print(diamond_Q)"
   ]
  },
  {
   "cell_type": "code",
   "execution_count": 45,
   "id": "9607e215",
   "metadata": {},
   "outputs": [
    {
     "name": "stdout",
     "output_type": "stream",
     "text": [
      "{(0, 1), (1, 2), (2, 1), (0, 0), (1, 1), (2, 0), (0, 2), (2, 2), (1, 0)}\n"
     ]
    }
   ],
   "source": [
    "print(wedge(diamond_P,diamond_Q))"
   ]
  },
  {
   "cell_type": "code",
   "execution_count": 46,
   "id": "23a7d15d",
   "metadata": {},
   "outputs": [
    {
     "name": "stdout",
     "output_type": "stream",
     "text": [
      "{(0, 1), (1, 2), (2, 1), (0, 0), (1, 1), (2, 0), (0, 2), (2, 2), (1, 0)}\n"
     ]
    }
   ],
   "source": [
    "print(diamond(wedge(P,Q),grid_rel,access_on_grid))"
   ]
  },
  {
   "cell_type": "markdown",
   "id": "ba314959",
   "metadata": {},
   "source": [
    "In the paper we consider cutting the accessibility arrow from the point (3,3) to the center point."
   ]
  },
  {
   "cell_type": "code",
   "execution_count": 47,
   "id": "78cae427",
   "metadata": {},
   "outputs": [],
   "source": [
    "access_on_grid2 = reflexive_closure([((1,0),(0,0)), ((1,0),(2,0)), ((3,0),(2,0)), ((3,0),(4,0)),\n",
    "                                    ((1,1),(0,1)), ((1,1),(2,1)), ((3,1),(2,1)), ((3,1),(4,1)),\n",
    "                                    ((1,2),(0,2)), ((1,2),(2,2)), ((3,2),(2,2)), ((3,2),(4,2)),\n",
    "                                    ((1,3),(0,3)), ((1,3),(2,3)), ((3,3),(2,3)), ((3,3),(4,3)),\n",
    "                                    ((1,4),(0,4)), ((1,4),(2,4)), ((3,4),(2,4)), ((3,4),(4,4)),\n",
    "                                    \n",
    "                                    ((0,1),(0,0)), ((0,1),(0,2)), ((0,3),(0,2)), ((0,3),(0,4)),\n",
    "                                    ((1,1),(1,0)), ((1,1),(1,2)), ((1,3),(1,2)), ((1,3),(1,4)),\n",
    "                                    ((2,1),(2,0)), ((2,1),(2,2)), ((2,3),(2,2)), ((2,3),(2,4)),\n",
    "                                    ((3,1),(3,0)), ((3,1),(3,2)), ((3,3),(3,2)), ((3,3),(3,4)),\n",
    "                                    ((4,1),(4,0)), ((4,1),(4,2)), ((4,3),(4,2)), ((4,3),(4,4)),\n",
    "                                    \n",
    "                                    ((1,1),(0,0)), ((1,1),(2,0)), ((1,1),(2,2)), ((1,1),(0,2)),\n",
    "                                    ((3,1),(2,0)), ((3,1),(2,2)), ((3,1),(4,2)), ((3,1),(4,0)),\n",
    "                                    ((1,3),(0,2)), ((1,3),(0,4)), ((1,3),(2,4)), ((1,3),(2,2)),\n",
    "                                                   ((3,3),(4,2)), ((3,3),(4,4)), ((3,3),(2,4))], \n",
    "                                   \n",
    "                                   prod)"
   ]
  },
  {
   "cell_type": "markdown",
   "id": "e1462756",
   "metadata": {},
   "source": [
    "The following test ensures that for every regular subset $A$ of the modified Epistemic Grid, $\\Box A$ is also regular."
   ]
  },
  {
   "cell_type": "code",
   "execution_count": 48,
   "id": "bf1dc94c",
   "metadata": {},
   "outputs": [],
   "source": [
    "for A in grid_lat:\n",
    "    boxA = box(A,access_on_grid2)\n",
    "    if boxA not in grid_lat:\n",
    "        print(\"Box of this regular set is not regular!\")\n",
    "        print(fx)\n",
    "        print(boxfx)\n",
    "        print(\"\\n\")"
   ]
  },
  {
   "cell_type": "code",
   "execution_count": 49,
   "id": "23baf92f",
   "metadata": {},
   "outputs": [
    {
     "name": "stdout",
     "output_type": "stream",
     "text": [
      "{(0, 1), (1, 2), (4, 0), (2, 1), (0, 0), (3, 1), (1, 1), (2, 0), (4, 2), (3, 0), (0, 2), (2, 2), (1, 0), (3, 2), (4, 1)}\n"
     ]
    }
   ],
   "source": [
    "diamond_P2 = diamond(P,grid_rel,access_on_grid2)\n",
    "print(diamond_P2)"
   ]
  },
  {
   "cell_type": "code",
   "execution_count": 50,
   "id": "caeb008a",
   "metadata": {},
   "outputs": [
    {
     "name": "stdout",
     "output_type": "stream",
     "text": [
      "{(0, 1), (2, 4), (1, 2), (0, 4), (2, 1), (0, 0), (1, 1), (0, 3), (2, 0), (1, 4), (2, 3), (0, 2), (2, 2), (1, 0), (1, 3)}\n"
     ]
    }
   ],
   "source": [
    "diamond_Q2 = diamond(Q,grid_rel,access_on_grid2)\n",
    "print(diamond_Q2)"
   ]
  },
  {
   "cell_type": "code",
   "execution_count": 51,
   "id": "b08317e9",
   "metadata": {},
   "outputs": [
    {
     "name": "stdout",
     "output_type": "stream",
     "text": [
      "{(0, 1), (1, 2), (2, 1), (0, 0), (1, 1), (2, 0), (0, 2), (2, 2), (1, 0)}\n"
     ]
    }
   ],
   "source": [
    "print(wedge(diamond_P2,diamond_Q2))"
   ]
  },
  {
   "cell_type": "code",
   "execution_count": 52,
   "id": "5208006c",
   "metadata": {},
   "outputs": [
    {
     "name": "stdout",
     "output_type": "stream",
     "text": [
      "{(0, 1), (1, 2), (2, 1), (0, 0), (1, 1), (2, 0), (0, 2), (1, 0)}\n"
     ]
    }
   ],
   "source": [
    "print(diamond(wedge(P,Q),grid_rel,access_on_grid2))"
   ]
  },
  {
   "cell_type": "markdown",
   "id": "30ee901c",
   "metadata": {},
   "source": [
    "Thus, as stated in the paper, now $\\Diamond(p\\wedge q)$ is no longer true at the center point $(2,2)$."
   ]
  }
 ],
 "metadata": {
  "kernelspec": {
   "display_name": "Python 3 (ipykernel)",
   "language": "python",
   "name": "python3"
  },
  "language_info": {
   "codemirror_mode": {
    "name": "ipython",
    "version": 3
   },
   "file_extension": ".py",
   "mimetype": "text/x-python",
   "name": "python",
   "nbconvert_exporter": "python",
   "pygments_lexer": "ipython3",
   "version": "3.9.9"
  }
 },
 "nbformat": 4,
 "nbformat_minor": 5
}
